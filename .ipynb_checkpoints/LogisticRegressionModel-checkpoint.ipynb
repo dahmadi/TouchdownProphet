{
 "cells": [
  {
   "cell_type": "code",
   "execution_count": 1,
   "id": "ee972656-063a-4204-8f3f-10d4478fae9c",
   "metadata": {},
   "outputs": [],
   "source": [
    "# import necessary libraries\n",
    "\n",
    "import pandas as pd\n",
    "import numpy as np\n",
    "from pathlib import Path\n",
    "import os\n",
    "import sys\n",
    "import pylab as pl\n",
    "import scipy.optimize as opt\n",
    "from sklearn import preprocessing\n",
    "%matplotlib inline \n",
    "import matplotlib.pyplot as plt\n",
    "from sklearn.linear_model import LogisticRegression\n",
    "from sklearn.metrics import confusion_matrix\n",
    "from sklearn import metrics\n",
    "from sklearn.model_selection import train_test_split\n",
    "from sklearn import preprocessing"
   ]
  },
  {
   "cell_type": "code",
   "execution_count": 2,
   "id": "e7172d63-f385-4fcc-8464-63706c62f717",
   "metadata": {},
   "outputs": [],
   "source": [
    "# Read NFL offensive, yearly, team stats into a pandas Dataframe\n",
    "# Append a column titled \"Year\" to each Dataframe\n",
    "\n",
    "off2022 = pd.read_excel('Data/Offense_2022.csv.xlsx')\n",
    "off2022['Year'] = '2022'\n",
    "\n",
    "\n",
    "off2021 = pd.read_excel('Data/Offense_2021.csv.xlsx')\n",
    "off2021['Year'] = '2021'\n",
    "\n",
    "off2020 = pd.read_excel('Data/Offense_2020.csv.xlsx')\n",
    "off2020['Year'] = '2020'\n",
    "\n",
    "off2019 = pd.read_excel('Data/Offense_2019.csv.xlsx')\n",
    "off2019['Year'] = '2019'\n",
    "\n",
    "off2018 = pd.read_excel('Data/Offense_2018.csv.xlsx')\n",
    "off2018['Year'] = '2018'\n",
    "\n",
    "off2017 = pd.read_excel('Data/Offense_2017.csv.xlsx')\n",
    "off2017['Year'] = '2017'\n",
    "\n",
    "off2016 = pd.read_excel('Data/Offense_2016.csv.xlsx')\n",
    "off2016['Year'] = '2016'\n",
    "\n",
    "off2015 = pd.read_excel('Data/Offense_2015.csv.xlsx')\n",
    "off2015['Year'] = '2015'\n",
    "\n",
    "off2014 = pd.read_excel('Data/Offense_2014.csv.xlsx')\n",
    "off2014['Year'] = '2014'"
   ]
  },
  {
   "cell_type": "code",
   "execution_count": 3,
   "id": "c6f6a010-61a1-4ed6-92d5-a0752e279952",
   "metadata": {},
   "outputs": [],
   "source": [
    "# Remove row 32 to 34 \n",
    "off2022 = off2022.drop([32,33,34])\n",
    "off2021 = off2021.drop([32,33,34])\n",
    "off2020 = off2020.drop([32,33,34])\n",
    "off2019 = off2019.drop([32,33,34])\n",
    "off2018 = off2018.drop([32,33,34])\n",
    "off2017 = off2017.drop([32,33,34])\n",
    "off2016 = off2016.drop([32,33,34])\n",
    "off2015 = off2015.drop([32,33,34])\n",
    "off2014 = off2014.drop([32,33,34])"
   ]
  },
  {
   "cell_type": "code",
   "execution_count": 4,
   "id": "44b47f2f-fa83-425e-a10d-2a688f53e443",
   "metadata": {},
   "outputs": [],
   "source": [
    "# Merge data together\n",
    "off_merge = [off2022, off2021, off2020, off2019, off2018, off2017, off2016, off2015, off2014] #listing individual dataframes here\n",
    "off_total = pd.concat(off_merge)\n",
    "off_total.rename(columns={\n",
    "    'Rank': 'O Rank'\n",
    "}, inplace=True)"
   ]
  },
  {
   "cell_type": "code",
   "execution_count": 6,
   "id": "afbbe8d1-6b5d-490c-a94e-70a8b45b93b2",
   "metadata": {},
   "outputs": [],
   "source": [
    "off_total['Year'] = off_total['Year'].astype('int')"
   ]
  },
  {
   "cell_type": "code",
   "execution_count": 7,
   "id": "6221a736-a832-4aed-9209-bcdd2a066e36",
   "metadata": {},
   "outputs": [],
   "source": [
    "#Read NFL defensive, yearly, team stats into a pandas Dataframe\n",
    "# Append a column titled \"Year\" to each Dataframe\n",
    "\n",
    "def2022 = pd.read_excel('Data/Defense_2022.csv.xlsx')\n",
    "def2022['Year'] = '2022'\n",
    "def2022.rename(columns={\n",
    "    'Rank': 'D Rank', \n",
    "    'Games Played': 'D Games Played', \n",
    "    'Fumbles Lost': 'D Fumbles Lost'\n",
    "}, inplace=True)\n",
    "\n",
    "def2021 = pd.read_excel('Data/Defense_2021.csv.xlsx')\n",
    "def2021['Year'] = '2021'\n",
    "def2021.rename(columns={\n",
    "    'Rank': 'D Rank', \n",
    "    'Games Played': 'D Games Played', \n",
    "    'Fumbles Lost': 'D Fumbles Lost'\n",
    "}, inplace=True)\n",
    "\n",
    "def2020 = pd.read_excel('Data/Defense_2020.csv.xlsx')\n",
    "def2020['Year'] = '2020'\n",
    "def2020.rename(columns={\n",
    "    'Rank': 'D Rank', \n",
    "    'Games Played': 'D Games Played', \n",
    "    'Fumbles Lost': 'D Fumbles Lost'\n",
    "}, inplace=True)\n",
    "\n",
    "def2019 = pd.read_excel('Data/Defense_2019.csv.xlsx')\n",
    "def2019['Year'] = '2019'\n",
    "def2019.rename(columns={\n",
    "    'Rank': 'D Rank', \n",
    "    'Games Played': 'D Games Played', \n",
    "    'Fumbles Lost': 'D Fumbles Lost'\n",
    "}, inplace=True)\n",
    "\n",
    "def2018 = pd.read_excel('Data/Defense_2018.csv.xlsx')\n",
    "def2018['Year'] = '2018'\n",
    "def2018.rename(columns={\n",
    "    'Rank': 'D Rank', \n",
    "    'Games Played': 'D Games Played', \n",
    "    'Fumbles Lost': 'D Fumbles Lost'\n",
    "}, inplace=True)\n",
    "\n",
    "def2017 = pd.read_excel('Data/Defense_2017.csv.xlsx')\n",
    "def2017['Year'] = '2017'\n",
    "def2017.rename(columns={\n",
    "    'Rank': 'D Rank', \n",
    "    'Games Played': 'D Games Played', \n",
    "    'Fumbles Lost': 'D Fumbles Lost'\n",
    "}, inplace=True)\n",
    "\n",
    "def2016 = pd.read_excel('Data/Defense_2016.csv.xlsx')\n",
    "def2016['Year'] = '2016'\n",
    "def2016.rename(columns={\n",
    "    'Rank': 'D Rank', \n",
    "    'Games Played': 'D Games Played', \n",
    "    'Fumbles Lost': 'D Fumbles Lost'\n",
    "}, inplace=True)\n",
    "\n",
    "def2015 = pd.read_excel('Data/Defense_2015.csv.xlsx')\n",
    "def2015['Year'] = '2015'\n",
    "def2015.rename(columns={\n",
    "    'Rank': 'D Rank', \n",
    "    'Games Played': 'D Games Played', \n",
    "    'Fumbles Lost': 'D Fumbles Lost'\n",
    "}, inplace=True)\n",
    "\n",
    "def2014 = pd.read_excel('Data/Defense_2014.csv.xlsx')\n",
    "def2014['Year'] = '2014'\n",
    "def2014.rename(columns={\n",
    "    'Rank': 'D Rank', \n",
    "    'Games Played': 'D Games Played', \n",
    "    'Fumbles Lost': 'D Fumbles Lost'\n",
    "}, inplace=True)"
   ]
  },
  {
   "cell_type": "code",
   "execution_count": 8,
   "id": "391af18a-31dd-4b58-964f-bdad8062a987",
   "metadata": {},
   "outputs": [],
   "source": [
    "# Remove row 32 to 34 \n",
    "def2022 = def2022.drop([32,33,34])\n",
    "def2021 = def2021.drop([32,33,34])\n",
    "def2020 = def2020.drop([32,33,34])\n",
    "def2019 = def2019.drop([32,33,34])\n",
    "def2018 = def2018.drop([32,33,34])\n",
    "def2017 = def2017.drop([32,33,34])\n",
    "def2016 = def2016.drop([32,33,34])\n",
    "def2015 = def2015.drop([32,33,34])\n",
    "def2014 = def2014.drop([32,33,34])"
   ]
  },
  {
   "cell_type": "code",
   "execution_count": 9,
   "id": "40c2c4f2-4959-4309-9c44-3d2608facf8a",
   "metadata": {},
   "outputs": [],
   "source": [
    "# Merge response data together\n",
    "def_merge = [def2022, def2021, def2020, def2019, def2018, def2017, def2016, def2015, def2014]\n",
    "def_total = pd.concat(def_merge)\n",
    "def_total['Year'] = def_total['Year'].astype('int')"
   ]
  },
  {
   "cell_type": "code",
   "execution_count": 10,
   "id": "85fbe712-063b-4c37-b48e-bfb44b71fbce",
   "metadata": {},
   "outputs": [],
   "source": [
    "# Create Training Set\n",
    "training_set = off_total.merge(def_total, on = ['Team', 'Year'])"
   ]
  },
  {
   "cell_type": "code",
   "execution_count": 11,
   "id": "e6354c08-7218-40ce-a6ff-17738c1a704c",
   "metadata": {},
   "outputs": [],
   "source": [
    "#Create Test set to backtest 2023 season accuracy\n",
    "off2023 = pd.read_excel('Data/Offense_2023.csv.xlsx')\n",
    "off2023['Year'] = '2023'\n",
    "off2023.rename(columns={\n",
    "    'Rank': 'O Rank'\n",
    "}, inplace=True)\n",
    "off2023 = off2023.drop([32,33,34])\n",
    "\n",
    "def2023 = pd.read_excel('Data/Defense_2023.csv.xlsx')\n",
    "def2023['Year'] = '2023'\n",
    "def2023.rename(columns={\n",
    "    'Rank': 'D Rank', \n",
    "    'Games Played': 'D Games Played', \n",
    "    'Fumbles Lost': 'D Fumbles Lost'\n",
    "}, inplace=True)\n",
    "def2023 = def2023.drop([32,33,34])\n",
    "\n",
    "test_set = off2023.merge(def2023, on = ['Team', 'Year'])"
   ]
  },
  {
   "cell_type": "code",
   "execution_count": 12,
   "id": "f5045dc8-b1af-4bb3-93cf-a1bb73fad846",
   "metadata": {},
   "outputs": [],
   "source": [
    "test_set['Year'] = test_set['Year'].astype('int')"
   ]
  },
  {
   "cell_type": "code",
   "execution_count": 13,
   "id": "c1833753-515d-46c9-986b-0afdaed6634d",
   "metadata": {},
   "outputs": [],
   "source": [
    "all_data = pd.concat([training_set, test_set])\n",
    "all_data['Year'] = all_data['Year'].astype('int')"
   ]
  },
  {
   "cell_type": "code",
   "execution_count": null,
   "id": "522c2bc7-ba38-4be7-824e-e305cba07fd9",
   "metadata": {},
   "outputs": [],
   "source": []
  }
 ],
 "metadata": {
  "kernelspec": {
   "display_name": "Python 3 (ipykernel)",
   "language": "python",
   "name": "python3"
  },
  "language_info": {
   "codemirror_mode": {
    "name": "ipython",
    "version": 3
   },
   "file_extension": ".py",
   "mimetype": "text/x-python",
   "name": "python",
   "nbconvert_exporter": "python",
   "pygments_lexer": "ipython3",
   "version": "3.9.18"
  }
 },
 "nbformat": 4,
 "nbformat_minor": 5
}
