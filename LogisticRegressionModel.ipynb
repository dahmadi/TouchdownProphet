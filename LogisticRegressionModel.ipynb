{
 "cells": [
  {
   "cell_type": "code",
   "execution_count": 1,
   "id": "ee972656-063a-4204-8f3f-10d4478fae9c",
   "metadata": {},
   "outputs": [
    {
     "ename": "ModuleNotFoundError",
     "evalue": "No module named 'pandas'",
     "output_type": "error",
     "traceback": [
      "\u001b[0;31m---------------------------------------------------------------------------\u001b[0m",
      "\u001b[0;31mModuleNotFoundError\u001b[0m                       Traceback (most recent call last)",
      "Cell \u001b[0;32mIn[1], line 3\u001b[0m\n\u001b[1;32m      1\u001b[0m \u001b[38;5;66;03m# import necessary libraries\u001b[39;00m\n\u001b[0;32m----> 3\u001b[0m \u001b[38;5;28;01mimport\u001b[39;00m \u001b[38;5;21;01mpandas\u001b[39;00m \u001b[38;5;28;01mas\u001b[39;00m \u001b[38;5;21;01mpd\u001b[39;00m\n\u001b[1;32m      4\u001b[0m \u001b[38;5;28;01mimport\u001b[39;00m \u001b[38;5;21;01mnumpy\u001b[39;00m \u001b[38;5;28;01mas\u001b[39;00m \u001b[38;5;21;01mnp\u001b[39;00m\n\u001b[1;32m      5\u001b[0m \u001b[38;5;28;01mfrom\u001b[39;00m \u001b[38;5;21;01mpathlib\u001b[39;00m \u001b[38;5;28;01mimport\u001b[39;00m Path\n",
      "\u001b[0;31mModuleNotFoundError\u001b[0m: No module named 'pandas'"
     ]
    }
   ],
   "source": [
    "# import necessary libraries\n",
    "\n",
    "import pandas as pd\n",
    "import numpy as np\n",
    "from pathlib import Path\n",
    "import os\n",
    "import sys\n",
    "import pylab as pl\n",
    "import scipy.optimize as opt\n",
    "from sklearn import preprocessing\n",
    "%matplotlib inline \n",
    "import matplotlib.pyplot as plt\n",
    "from sklearn.linear_model import LogisticRegression\n",
    "from sklearn.metrics import confusion_matrix\n",
    "from sklearn import metrics\n",
    "from sklearn.model_selection import train_test_split\n",
    "from sklearn import preprocessing"
   ]
  },
  {
   "cell_type": "code",
   "execution_count": 4,
   "id": "e7172d63-f385-4fcc-8464-63706c62f717",
   "metadata": {},
   "outputs": [],
   "source": [
    "# Read NFL offensive, yearly, team stats into a pandas Dataframe\n",
    "# Append a column titled \"Year\" to each Dataframe\n",
    "\n",
    "\n",
    "\n",
    "off2022 = pd.read_excel('Data/Offense_2022.csv.xlsx')\n",
    "off2022['Year'] = '2022'\n",
    "\n",
    "\n",
    "off2021 = pd.read_excel('Data/Offense_2021.csv.xlsx')\n",
    "off2021['Year'] = '2021'\n",
    "\n",
    "off2020 = pd.read_excel('Data/Offense_2020.csv.xlsx')\n",
    "off2020['Year'] = '2020'\n",
    "\n",
    "off2019 = pd.read_excel('Data/Offense_2019.csv.xlsx')\n",
    "off2019['Year'] = '2019'\n",
    "\n",
    "off2018 = pd.read_excel('Data/Offense_2018.csv.xlsx')\n",
    "off2018['Year'] = '2018'\n",
    "\n",
    "off2017 = pd.read_excel('Data/Offense_2017.csv.xlsx')\n",
    "off2017['Year'] = '2017'\n",
    "\n",
    "off2016 = pd.read_excel('Data/Offense_2016.csv.xlsx')\n",
    "off2016['Year'] = '2016'\n",
    "\n",
    "off2015 = pd.read_excel('Data/Offense_2015.csv.xlsx')\n",
    "off2015['Year'] = '2015'\n",
    "\n",
    "off2014 = pd.read_excel('Data/Offense_2014.csv.xlsx')\n",
    "off2014['Year'] = '2014'"
   ]
  },
  {
   "cell_type": "code",
   "execution_count": null,
   "id": "c6f6a010-61a1-4ed6-92d5-a0752e279952",
   "metadata": {},
   "outputs": [],
   "source": [
    "display(Off_2023.hea"
   ]
  }
 ],
 "metadata": {
  "kernelspec": {
   "display_name": "Python 3 (ipykernel)",
   "language": "python",
   "name": "python3"
  },
  "language_info": {
   "codemirror_mode": {
    "name": "ipython",
    "version": 3
   },
   "file_extension": ".py",
   "mimetype": "text/x-python",
   "name": "python",
   "nbconvert_exporter": "python",
   "pygments_lexer": "ipython3",
   "version": "3.10.2"
  }
 },
 "nbformat": 4,
 "nbformat_minor": 5
}
