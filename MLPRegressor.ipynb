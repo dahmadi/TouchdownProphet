{
 "cells": [
  {
   "cell_type": "code",
   "execution_count": 2,
   "metadata": {},
   "outputs": [],
   "source": [
    "# import necessary libraries\n",
    "\n",
    "import pandas as pd\n",
    "import numpy as np\n",
    "import os\n",
    "import pickle"
   ]
  },
  {
   "cell_type": "code",
   "execution_count": 3,
   "metadata": {},
   "outputs": [
    {
     "name": "stdout",
     "output_type": "stream",
     "text": [
      "(544, 23)\n"
     ]
    },
    {
     "data": {
      "text/html": [
       "<div>\n",
       "<style scoped>\n",
       "    .dataframe tbody tr th:only-of-type {\n",
       "        vertical-align: middle;\n",
       "    }\n",
       "\n",
       "    .dataframe tbody tr th {\n",
       "        vertical-align: top;\n",
       "    }\n",
       "\n",
       "    .dataframe thead th {\n",
       "        text-align: right;\n",
       "    }\n",
       "</style>\n",
       "<table border=\"1\" class=\"dataframe\">\n",
       "  <thead>\n",
       "    <tr style=\"text-align: right;\">\n",
       "      <th></th>\n",
       "      <th>Team</th>\n",
       "      <th>Week</th>\n",
       "      <th>Result</th>\n",
       "      <th>Record</th>\n",
       "      <th>Home</th>\n",
       "      <th>Opponent</th>\n",
       "      <th>Points Scored</th>\n",
       "      <th>Points Allowed</th>\n",
       "      <th>1st Downs</th>\n",
       "      <th>Total Yards Gained</th>\n",
       "      <th>...</th>\n",
       "      <th>1st Downs Allowed</th>\n",
       "      <th>Total Yards Allowed</th>\n",
       "      <th>Passing Yards Allowed</th>\n",
       "      <th>Rushing Yards Allowed</th>\n",
       "      <th>Turnovers Gained</th>\n",
       "      <th>Offense Expected Points</th>\n",
       "      <th>Defense  Expected Points</th>\n",
       "      <th>Special Teams  Expected Points</th>\n",
       "      <th>Prediction_LR</th>\n",
       "      <th>Prediction_ADA</th>\n",
       "    </tr>\n",
       "  </thead>\n",
       "  <tbody>\n",
       "    <tr>\n",
       "      <th>0</th>\n",
       "      <td>San Francisco 49ers</td>\n",
       "      <td>1</td>\n",
       "      <td>1</td>\n",
       "      <td>1-0</td>\n",
       "      <td>0</td>\n",
       "      <td>Pittsburgh Steelers</td>\n",
       "      <td>30</td>\n",
       "      <td>7</td>\n",
       "      <td>22</td>\n",
       "      <td>391</td>\n",
       "      <td>...</td>\n",
       "      <td>15</td>\n",
       "      <td>239</td>\n",
       "      <td>198</td>\n",
       "      <td>41</td>\n",
       "      <td>2.0</td>\n",
       "      <td>9.73</td>\n",
       "      <td>13.55</td>\n",
       "      <td>-0.78</td>\n",
       "      <td>0.407722</td>\n",
       "      <td>0.033581</td>\n",
       "    </tr>\n",
       "    <tr>\n",
       "      <th>1</th>\n",
       "      <td>San Francisco 49ers</td>\n",
       "      <td>2</td>\n",
       "      <td>1</td>\n",
       "      <td>2-0</td>\n",
       "      <td>0</td>\n",
       "      <td>Los Angeles Rams</td>\n",
       "      <td>30</td>\n",
       "      <td>23</td>\n",
       "      <td>21</td>\n",
       "      <td>365</td>\n",
       "      <td>...</td>\n",
       "      <td>28</td>\n",
       "      <td>386</td>\n",
       "      <td>297</td>\n",
       "      <td>89</td>\n",
       "      <td>2.0</td>\n",
       "      <td>12.36</td>\n",
       "      <td>-3.31</td>\n",
       "      <td>-2.05</td>\n",
       "      <td>0.407722</td>\n",
       "      <td>0.033581</td>\n",
       "    </tr>\n",
       "    <tr>\n",
       "      <th>2</th>\n",
       "      <td>San Francisco 49ers</td>\n",
       "      <td>3</td>\n",
       "      <td>1</td>\n",
       "      <td>3-0</td>\n",
       "      <td>1</td>\n",
       "      <td>New York Giants</td>\n",
       "      <td>30</td>\n",
       "      <td>12</td>\n",
       "      <td>26</td>\n",
       "      <td>441</td>\n",
       "      <td>...</td>\n",
       "      <td>10</td>\n",
       "      <td>150</td>\n",
       "      <td>121</td>\n",
       "      <td>29</td>\n",
       "      <td>1.0</td>\n",
       "      <td>19.00</td>\n",
       "      <td>11.82</td>\n",
       "      <td>-9.72</td>\n",
       "      <td>0.407722</td>\n",
       "      <td>0.033581</td>\n",
       "    </tr>\n",
       "    <tr>\n",
       "      <th>3</th>\n",
       "      <td>San Francisco 49ers</td>\n",
       "      <td>4</td>\n",
       "      <td>1</td>\n",
       "      <td>4-0</td>\n",
       "      <td>1</td>\n",
       "      <td>Arizona Cardinals</td>\n",
       "      <td>35</td>\n",
       "      <td>16</td>\n",
       "      <td>30</td>\n",
       "      <td>395</td>\n",
       "      <td>...</td>\n",
       "      <td>23</td>\n",
       "      <td>362</td>\n",
       "      <td>257</td>\n",
       "      <td>105</td>\n",
       "      <td>1.0</td>\n",
       "      <td>30.46</td>\n",
       "      <td>-9.72</td>\n",
       "      <td>-1.63</td>\n",
       "      <td>0.407722</td>\n",
       "      <td>0.033581</td>\n",
       "    </tr>\n",
       "    <tr>\n",
       "      <th>4</th>\n",
       "      <td>San Francisco 49ers</td>\n",
       "      <td>5</td>\n",
       "      <td>1</td>\n",
       "      <td>5-0</td>\n",
       "      <td>1</td>\n",
       "      <td>Dallas Cowboys</td>\n",
       "      <td>42</td>\n",
       "      <td>10</td>\n",
       "      <td>25</td>\n",
       "      <td>421</td>\n",
       "      <td>...</td>\n",
       "      <td>8</td>\n",
       "      <td>197</td>\n",
       "      <td>140</td>\n",
       "      <td>57</td>\n",
       "      <td>4.0</td>\n",
       "      <td>12.84</td>\n",
       "      <td>23.12</td>\n",
       "      <td>-5.21</td>\n",
       "      <td>0.407722</td>\n",
       "      <td>0.033581</td>\n",
       "    </tr>\n",
       "  </tbody>\n",
       "</table>\n",
       "<p>5 rows × 23 columns</p>\n",
       "</div>"
      ],
      "text/plain": [
       "                  Team  Week  Result Record  Home             Opponent  \\\n",
       "0  San Francisco 49ers     1       1    1-0     0  Pittsburgh Steelers   \n",
       "1  San Francisco 49ers     2       1    2-0     0     Los Angeles Rams   \n",
       "2  San Francisco 49ers     3       1    3-0     1      New York Giants   \n",
       "3  San Francisco 49ers     4       1    4-0     1    Arizona Cardinals   \n",
       "4  San Francisco 49ers     5       1    5-0     1       Dallas Cowboys   \n",
       "\n",
       "   Points Scored  Points Allowed  1st Downs  Total Yards Gained  ...  \\\n",
       "0             30               7         22                 391  ...   \n",
       "1             30              23         21                 365  ...   \n",
       "2             30              12         26                 441  ...   \n",
       "3             35              16         30                 395  ...   \n",
       "4             42              10         25                 421  ...   \n",
       "\n",
       "   1st Downs Allowed  Total Yards Allowed  Passing Yards Allowed  \\\n",
       "0                 15                  239                    198   \n",
       "1                 28                  386                    297   \n",
       "2                 10                  150                    121   \n",
       "3                 23                  362                    257   \n",
       "4                  8                  197                    140   \n",
       "\n",
       "   Rushing Yards Allowed  Turnovers Gained  Offense Expected Points  \\\n",
       "0                     41               2.0                     9.73   \n",
       "1                     89               2.0                    12.36   \n",
       "2                     29               1.0                    19.00   \n",
       "3                    105               1.0                    30.46   \n",
       "4                     57               4.0                    12.84   \n",
       "\n",
       "   Defense  Expected Points  Special Teams  Expected Points  Prediction_LR  \\\n",
       "0                     13.55                           -0.78       0.407722   \n",
       "1                     -3.31                           -2.05       0.407722   \n",
       "2                     11.82                           -9.72       0.407722   \n",
       "3                     -9.72                           -1.63       0.407722   \n",
       "4                     23.12                           -5.21       0.407722   \n",
       "\n",
       "   Prediction_ADA  \n",
       "0        0.033581  \n",
       "1        0.033581  \n",
       "2        0.033581  \n",
       "3        0.033581  \n",
       "4        0.033581  \n",
       "\n",
       "[5 rows x 23 columns]"
      ]
     },
     "execution_count": 3,
     "metadata": {},
     "output_type": "execute_result"
    }
   ],
   "source": [
    "nfl_df = pd.read_csv('Data/NFL_Predictions_df.csv')\n",
    "print(nfl_df.shape)\n",
    "nfl_df.head(5)\n"
   ]
  },
  {
   "cell_type": "code",
   "execution_count": 4,
   "metadata": {},
   "outputs": [
    {
     "name": "stdout",
     "output_type": "stream",
     "text": [
      "Index(['Team', 'Week', 'Result', 'Record', 'Home', 'Opponent', 'Points Scored',\n",
      "       'Points Allowed', '1st Downs', 'Total Yards Gained', ' Passing Yards',\n",
      "       ' Rushing Yards', 'Turnovers Lost', '1st Downs Allowed',\n",
      "       'Total Yards Allowed', 'Passing Yards Allowed', 'Rushing Yards Allowed',\n",
      "       'Turnovers Gained', 'Offense Expected Points',\n",
      "       'Defense  Expected Points', 'Special Teams  Expected Points',\n",
      "       'Prediction_LR', 'Prediction_ADA'],\n",
      "      dtype='object')\n"
     ]
    }
   ],
   "source": [
    "print(nfl_df.columns)"
   ]
  },
  {
   "cell_type": "code",
   "execution_count": 5,
   "metadata": {},
   "outputs": [
    {
     "name": "stdout",
     "output_type": "stream",
     "text": [
      "Index(['Team', 'Week', 'Result', 'Record', 'Home', 'Opponent', 'Points Scored',\n",
      "       'Points Allowed', '1st Downs', 'Total Yards Gained', ' Passing Yards',\n",
      "       ' Rushing Yards', 'Turnovers Lost', '1st Downs Allowed',\n",
      "       'Total Yards Allowed', 'Passing Yards Allowed', 'Rushing Yards Allowed',\n",
      "       'Turnovers Gained', 'Offense Expected Points',\n",
      "       'Defense  Expected Points', 'Special Teams  Expected Points',\n",
      "       'Prediction_LR', 'Prediction_ADA'],\n",
      "      dtype='object')\n"
     ]
    }
   ],
   "source": [
    "print(nfl_df.columns)"
   ]
  },
  {
   "cell_type": "code",
   "execution_count": 6,
   "metadata": {},
   "outputs": [],
   "source": [
    "# get index of team data\n",
    "team_index = nfl_df['Team']\n",
    "\n",
    "# remove opponent data for mlp model prediction results\n",
    "mlp_model_df = nfl_df.drop(columns=['Week', 'Result', 'Record', 'Opponent', 'Points Allowed', 'Offense Expected Points', 'Defense  Expected Points', 'Special Teams  Expected Points'])\n",
    "\n",
    "\n"
   ]
  },
  {
   "cell_type": "code",
   "execution_count": 7,
   "metadata": {},
   "outputs": [
    {
     "data": {
      "text/html": [
       "<div>\n",
       "<style scoped>\n",
       "    .dataframe tbody tr th:only-of-type {\n",
       "        vertical-align: middle;\n",
       "    }\n",
       "\n",
       "    .dataframe tbody tr th {\n",
       "        vertical-align: top;\n",
       "    }\n",
       "\n",
       "    .dataframe thead th {\n",
       "        text-align: right;\n",
       "    }\n",
       "</style>\n",
       "<table border=\"1\" class=\"dataframe\">\n",
       "  <thead>\n",
       "    <tr style=\"text-align: right;\">\n",
       "      <th></th>\n",
       "      <th>Team</th>\n",
       "      <th>Home</th>\n",
       "      <th>Points Scored</th>\n",
       "      <th>1st Downs</th>\n",
       "      <th>Total Yards Gained</th>\n",
       "      <th>Passing Yards</th>\n",
       "      <th>Rushing Yards</th>\n",
       "      <th>Turnovers Lost</th>\n",
       "      <th>1st Downs Allowed</th>\n",
       "      <th>Total Yards Allowed</th>\n",
       "      <th>Passing Yards Allowed</th>\n",
       "      <th>Rushing Yards Allowed</th>\n",
       "      <th>Turnovers Gained</th>\n",
       "      <th>Prediction_LR</th>\n",
       "      <th>Prediction_ADA</th>\n",
       "    </tr>\n",
       "  </thead>\n",
       "  <tbody>\n",
       "    <tr>\n",
       "      <th>0</th>\n",
       "      <td>San Francisco 49ers</td>\n",
       "      <td>0</td>\n",
       "      <td>30</td>\n",
       "      <td>0.564721</td>\n",
       "      <td>0.691300</td>\n",
       "      <td>-0.212822</td>\n",
       "      <td>1.558456</td>\n",
       "      <td>-0.676373</td>\n",
       "      <td>-0.878539</td>\n",
       "      <td>-1.077223</td>\n",
       "      <td>-0.279643</td>\n",
       "      <td>-1.482330</td>\n",
       "      <td>0.396359</td>\n",
       "      <td>1.364103</td>\n",
       "      <td>1.728923</td>\n",
       "    </tr>\n",
       "    <tr>\n",
       "      <th>1</th>\n",
       "      <td>San Francisco 49ers</td>\n",
       "      <td>0</td>\n",
       "      <td>30</td>\n",
       "      <td>0.358541</td>\n",
       "      <td>0.388789</td>\n",
       "      <td>-0.172729</td>\n",
       "      <td>0.958573</td>\n",
       "      <td>-0.676373</td>\n",
       "      <td>1.801801</td>\n",
       "      <td>0.633125</td>\n",
       "      <td>1.043424</td>\n",
       "      <td>-0.489420</td>\n",
       "      <td>0.396359</td>\n",
       "      <td>1.364103</td>\n",
       "      <td>1.728923</td>\n",
       "    </tr>\n",
       "    <tr>\n",
       "      <th>2</th>\n",
       "      <td>San Francisco 49ers</td>\n",
       "      <td>1</td>\n",
       "      <td>30</td>\n",
       "      <td>1.389441</td>\n",
       "      <td>1.273051</td>\n",
       "      <td>1.083517</td>\n",
       "      <td>0.586232</td>\n",
       "      <td>-0.676373</td>\n",
       "      <td>-1.909439</td>\n",
       "      <td>-2.112740</td>\n",
       "      <td>-1.308695</td>\n",
       "      <td>-1.730558</td>\n",
       "      <td>-0.676373</td>\n",
       "      <td>1.364103</td>\n",
       "      <td>1.728923</td>\n",
       "    </tr>\n",
       "    <tr>\n",
       "      <th>3</th>\n",
       "      <td>San Francisco 49ers</td>\n",
       "      <td>1</td>\n",
       "      <td>35</td>\n",
       "      <td>2.214161</td>\n",
       "      <td>0.737840</td>\n",
       "      <td>0.695951</td>\n",
       "      <td>0.234576</td>\n",
       "      <td>-0.676373</td>\n",
       "      <td>0.770901</td>\n",
       "      <td>0.353884</td>\n",
       "      <td>0.508851</td>\n",
       "      <td>-0.158450</td>\n",
       "      <td>-0.676373</td>\n",
       "      <td>1.364103</td>\n",
       "      <td>1.728923</td>\n",
       "    </tr>\n",
       "    <tr>\n",
       "      <th>4</th>\n",
       "      <td>San Francisco 49ers</td>\n",
       "      <td>1</td>\n",
       "      <td>42</td>\n",
       "      <td>1.183261</td>\n",
       "      <td>1.040350</td>\n",
       "      <td>0.428665</td>\n",
       "      <td>1.186115</td>\n",
       "      <td>-0.676373</td>\n",
       "      <td>-2.321799</td>\n",
       "      <td>-1.565894</td>\n",
       "      <td>-1.054773</td>\n",
       "      <td>-1.151360</td>\n",
       "      <td>2.541823</td>\n",
       "      <td>1.364103</td>\n",
       "      <td>1.728923</td>\n",
       "    </tr>\n",
       "  </tbody>\n",
       "</table>\n",
       "</div>"
      ],
      "text/plain": [
       "                  Team  Home  Points Scored  1st Downs  Total Yards Gained  \\\n",
       "0  San Francisco 49ers     0             30   0.564721            0.691300   \n",
       "1  San Francisco 49ers     0             30   0.358541            0.388789   \n",
       "2  San Francisco 49ers     1             30   1.389441            1.273051   \n",
       "3  San Francisco 49ers     1             35   2.214161            0.737840   \n",
       "4  San Francisco 49ers     1             42   1.183261            1.040350   \n",
       "\n",
       "    Passing Yards   Rushing Yards  Turnovers Lost  1st Downs Allowed  \\\n",
       "0       -0.212822        1.558456       -0.676373          -0.878539   \n",
       "1       -0.172729        0.958573       -0.676373           1.801801   \n",
       "2        1.083517        0.586232       -0.676373          -1.909439   \n",
       "3        0.695951        0.234576       -0.676373           0.770901   \n",
       "4        0.428665        1.186115       -0.676373          -2.321799   \n",
       "\n",
       "   Total Yards Allowed  Passing Yards Allowed  Rushing Yards Allowed  \\\n",
       "0            -1.077223              -0.279643              -1.482330   \n",
       "1             0.633125               1.043424              -0.489420   \n",
       "2            -2.112740              -1.308695              -1.730558   \n",
       "3             0.353884               0.508851              -0.158450   \n",
       "4            -1.565894              -1.054773              -1.151360   \n",
       "\n",
       "   Turnovers Gained  Prediction_LR  Prediction_ADA  \n",
       "0          0.396359       1.364103        1.728923  \n",
       "1          0.396359       1.364103        1.728923  \n",
       "2         -0.676373       1.364103        1.728923  \n",
       "3         -0.676373       1.364103        1.728923  \n",
       "4          2.541823       1.364103        1.728923  "
      ]
     },
     "execution_count": 7,
     "metadata": {},
     "output_type": "execute_result"
    }
   ],
   "source": [
    "# Standardize the data\n",
    "from sklearn.preprocessing import StandardScaler\n",
    "\n",
    "# Correcting the list\n",
    "sd_data = ['1st Downs', 'Total Yards Gained', ' Passing Yards', ' Rushing Yards', 'Passing Yards Allowed', 'Rushing Yards Allowed', 'Turnovers Lost',\n",
    "           '1st Downs Allowed', 'Total Yards Allowed', 'Passing Yards Allowed', 'Rushing Yards Allowed',\n",
    "           'Turnovers Gained', 'Prediction_LR', 'Prediction_ADA']\n",
    "\n",
    "\n",
    "scaler = StandardScaler()\n",
    "mlp_model_df[sd_data] = scaler.fit_transform(mlp_model_df[sd_data])\n",
    "\n",
    "mlp_model_df.head()"
   ]
  },
  {
   "cell_type": "code",
   "execution_count": 8,
   "metadata": {},
   "outputs": [
    {
     "data": {
      "text/plain": [
       "Team                      object\n",
       "Home                       int64\n",
       "Points Scored              int64\n",
       "1st Downs                float64\n",
       "Total Yards Gained       float64\n",
       " Passing Yards           float64\n",
       " Rushing Yards           float64\n",
       "Turnovers Lost           float64\n",
       "1st Downs Allowed        float64\n",
       "Total Yards Allowed      float64\n",
       "Passing Yards Allowed    float64\n",
       "Rushing Yards Allowed    float64\n",
       "Turnovers Gained         float64\n",
       "Prediction_LR            float64\n",
       "Prediction_ADA           float64\n",
       "dtype: object"
      ]
     },
     "execution_count": 8,
     "metadata": {},
     "output_type": "execute_result"
    }
   ],
   "source": [
    "mlp_model_df.dtypes"
   ]
  },
  {
   "cell_type": "code",
   "execution_count": 9,
   "metadata": {},
   "outputs": [
    {
     "data": {
      "text/html": [
       "<div>\n",
       "<style scoped>\n",
       "    .dataframe tbody tr th:only-of-type {\n",
       "        vertical-align: middle;\n",
       "    }\n",
       "\n",
       "    .dataframe tbody tr th {\n",
       "        vertical-align: top;\n",
       "    }\n",
       "\n",
       "    .dataframe thead th {\n",
       "        text-align: right;\n",
       "    }\n",
       "</style>\n",
       "<table border=\"1\" class=\"dataframe\">\n",
       "  <thead>\n",
       "    <tr style=\"text-align: right;\">\n",
       "      <th></th>\n",
       "      <th>Home</th>\n",
       "      <th>Points Scored</th>\n",
       "      <th>1st Downs</th>\n",
       "      <th>Total Yards Gained</th>\n",
       "      <th>Passing Yards</th>\n",
       "      <th>Rushing Yards</th>\n",
       "      <th>Turnovers Lost</th>\n",
       "      <th>1st Downs Allowed</th>\n",
       "      <th>Total Yards Allowed</th>\n",
       "      <th>Passing Yards Allowed</th>\n",
       "      <th>...</th>\n",
       "      <th>Team_New Orleans Saints</th>\n",
       "      <th>Team_New York Giants</th>\n",
       "      <th>Team_New York Jets</th>\n",
       "      <th>Team_Philadelphia Eagles</th>\n",
       "      <th>Team_Pittsburgh Steelers</th>\n",
       "      <th>Team_San Francisco 49ers</th>\n",
       "      <th>Team_Seattle Seahawks</th>\n",
       "      <th>Team_Tampa Bay Buccaneers</th>\n",
       "      <th>Team_Tennessee Titans</th>\n",
       "      <th>Team_Washington Commanders</th>\n",
       "    </tr>\n",
       "  </thead>\n",
       "  <tbody>\n",
       "    <tr>\n",
       "      <th>0</th>\n",
       "      <td>0</td>\n",
       "      <td>30</td>\n",
       "      <td>0.564721</td>\n",
       "      <td>0.691300</td>\n",
       "      <td>-0.212822</td>\n",
       "      <td>1.558456</td>\n",
       "      <td>-0.676373</td>\n",
       "      <td>-0.878539</td>\n",
       "      <td>-1.077223</td>\n",
       "      <td>-0.279643</td>\n",
       "      <td>...</td>\n",
       "      <td>False</td>\n",
       "      <td>False</td>\n",
       "      <td>False</td>\n",
       "      <td>False</td>\n",
       "      <td>False</td>\n",
       "      <td>True</td>\n",
       "      <td>False</td>\n",
       "      <td>False</td>\n",
       "      <td>False</td>\n",
       "      <td>False</td>\n",
       "    </tr>\n",
       "    <tr>\n",
       "      <th>1</th>\n",
       "      <td>0</td>\n",
       "      <td>30</td>\n",
       "      <td>0.358541</td>\n",
       "      <td>0.388789</td>\n",
       "      <td>-0.172729</td>\n",
       "      <td>0.958573</td>\n",
       "      <td>-0.676373</td>\n",
       "      <td>1.801801</td>\n",
       "      <td>0.633125</td>\n",
       "      <td>1.043424</td>\n",
       "      <td>...</td>\n",
       "      <td>False</td>\n",
       "      <td>False</td>\n",
       "      <td>False</td>\n",
       "      <td>False</td>\n",
       "      <td>False</td>\n",
       "      <td>True</td>\n",
       "      <td>False</td>\n",
       "      <td>False</td>\n",
       "      <td>False</td>\n",
       "      <td>False</td>\n",
       "    </tr>\n",
       "    <tr>\n",
       "      <th>2</th>\n",
       "      <td>1</td>\n",
       "      <td>30</td>\n",
       "      <td>1.389441</td>\n",
       "      <td>1.273051</td>\n",
       "      <td>1.083517</td>\n",
       "      <td>0.586232</td>\n",
       "      <td>-0.676373</td>\n",
       "      <td>-1.909439</td>\n",
       "      <td>-2.112740</td>\n",
       "      <td>-1.308695</td>\n",
       "      <td>...</td>\n",
       "      <td>False</td>\n",
       "      <td>False</td>\n",
       "      <td>False</td>\n",
       "      <td>False</td>\n",
       "      <td>False</td>\n",
       "      <td>True</td>\n",
       "      <td>False</td>\n",
       "      <td>False</td>\n",
       "      <td>False</td>\n",
       "      <td>False</td>\n",
       "    </tr>\n",
       "    <tr>\n",
       "      <th>3</th>\n",
       "      <td>1</td>\n",
       "      <td>35</td>\n",
       "      <td>2.214161</td>\n",
       "      <td>0.737840</td>\n",
       "      <td>0.695951</td>\n",
       "      <td>0.234576</td>\n",
       "      <td>-0.676373</td>\n",
       "      <td>0.770901</td>\n",
       "      <td>0.353884</td>\n",
       "      <td>0.508851</td>\n",
       "      <td>...</td>\n",
       "      <td>False</td>\n",
       "      <td>False</td>\n",
       "      <td>False</td>\n",
       "      <td>False</td>\n",
       "      <td>False</td>\n",
       "      <td>True</td>\n",
       "      <td>False</td>\n",
       "      <td>False</td>\n",
       "      <td>False</td>\n",
       "      <td>False</td>\n",
       "    </tr>\n",
       "    <tr>\n",
       "      <th>4</th>\n",
       "      <td>1</td>\n",
       "      <td>42</td>\n",
       "      <td>1.183261</td>\n",
       "      <td>1.040350</td>\n",
       "      <td>0.428665</td>\n",
       "      <td>1.186115</td>\n",
       "      <td>-0.676373</td>\n",
       "      <td>-2.321799</td>\n",
       "      <td>-1.565894</td>\n",
       "      <td>-1.054773</td>\n",
       "      <td>...</td>\n",
       "      <td>False</td>\n",
       "      <td>False</td>\n",
       "      <td>False</td>\n",
       "      <td>False</td>\n",
       "      <td>False</td>\n",
       "      <td>True</td>\n",
       "      <td>False</td>\n",
       "      <td>False</td>\n",
       "      <td>False</td>\n",
       "      <td>False</td>\n",
       "    </tr>\n",
       "  </tbody>\n",
       "</table>\n",
       "<p>5 rows × 46 columns</p>\n",
       "</div>"
      ],
      "text/plain": [
       "   Home  Points Scored  1st Downs  Total Yards Gained   Passing Yards  \\\n",
       "0     0             30   0.564721            0.691300       -0.212822   \n",
       "1     0             30   0.358541            0.388789       -0.172729   \n",
       "2     1             30   1.389441            1.273051        1.083517   \n",
       "3     1             35   2.214161            0.737840        0.695951   \n",
       "4     1             42   1.183261            1.040350        0.428665   \n",
       "\n",
       "    Rushing Yards  Turnovers Lost  1st Downs Allowed  Total Yards Allowed  \\\n",
       "0        1.558456       -0.676373          -0.878539            -1.077223   \n",
       "1        0.958573       -0.676373           1.801801             0.633125   \n",
       "2        0.586232       -0.676373          -1.909439            -2.112740   \n",
       "3        0.234576       -0.676373           0.770901             0.353884   \n",
       "4        1.186115       -0.676373          -2.321799            -1.565894   \n",
       "\n",
       "   Passing Yards Allowed  ...  Team_New Orleans Saints  Team_New York Giants  \\\n",
       "0              -0.279643  ...                    False                 False   \n",
       "1               1.043424  ...                    False                 False   \n",
       "2              -1.308695  ...                    False                 False   \n",
       "3               0.508851  ...                    False                 False   \n",
       "4              -1.054773  ...                    False                 False   \n",
       "\n",
       "   Team_New York Jets  Team_Philadelphia Eagles  Team_Pittsburgh Steelers  \\\n",
       "0               False                     False                     False   \n",
       "1               False                     False                     False   \n",
       "2               False                     False                     False   \n",
       "3               False                     False                     False   \n",
       "4               False                     False                     False   \n",
       "\n",
       "   Team_San Francisco 49ers  Team_Seattle Seahawks  Team_Tampa Bay Buccaneers  \\\n",
       "0                      True                  False                      False   \n",
       "1                      True                  False                      False   \n",
       "2                      True                  False                      False   \n",
       "3                      True                  False                      False   \n",
       "4                      True                  False                      False   \n",
       "\n",
       "   Team_Tennessee Titans  Team_Washington Commanders  \n",
       "0                  False                       False  \n",
       "1                  False                       False  \n",
       "2                  False                       False  \n",
       "3                  False                       False  \n",
       "4                  False                       False  \n",
       "\n",
       "[5 rows x 46 columns]"
      ]
     },
     "execution_count": 9,
     "metadata": {},
     "output_type": "execute_result"
    }
   ],
   "source": [
    "# Convert Team Names into boolean vlaues in the index\n",
    "mlp_model_df = pd.get_dummies(mlp_model_df)\n",
    "\n",
    "\n",
    "mlp_model_df.head()"
   ]
  },
  {
   "cell_type": "code",
   "execution_count": 10,
   "metadata": {},
   "outputs": [
    {
     "name": "stderr",
     "output_type": "stream",
     "text": [
      "c:\\Users\\james\\anaconda3\\envs\\dev\\lib\\site-packages\\sklearn\\neural_network\\_multilayer_perceptron.py:1625: DataConversionWarning: A column-vector y was passed when a 1d array was expected. Please change the shape of y to (n_samples, ), for example using ravel().\n",
      "  y = column_or_1d(y, warn=True)\n"
     ]
    },
    {
     "name": "stdout",
     "output_type": "stream",
     "text": [
      "5.187186523463346\n"
     ]
    }
   ],
   "source": [
    "#MLPRegressor\n",
    "from sklearn.model_selection import train_test_split\n",
    "from sklearn.neural_network import MLPRegressor\n",
    "from sklearn.metrics import r2_score, mean_squared_error, mean_absolute_error\n",
    "\n",
    "# Data processing\n",
    "X = mlp_model_df.drop('Points Scored', axis=1).values\n",
    "y = mlp_model_df['Points Scored'].values.reshape(-1, 1)\n",
    "X_train, X_test, y_train, y_test = train_test_split(X, y, test_size= 0.25)\n",
    "\n",
    "MLP_model = MLPRegressor(hidden_layer_sizes=100, max_iter= 5000, random_state= 40, batch_size= 30, solver= 'lbfgs', \n",
    "                        activation= 'identity')\n",
    "\n",
    "MLP_model.fit(X_train, y_train)\n",
    "\n",
    "y_pred = MLP_model.predict(X_test)\n",
    "\n",
    "print(mean_absolute_error(y_test, y_pred))"
   ]
  },
  {
   "cell_type": "code",
   "execution_count": 11,
   "metadata": {},
   "outputs": [
    {
     "data": {
      "text/html": [
       "<style>#sk-container-id-1 {color: black;}#sk-container-id-1 pre{padding: 0;}#sk-container-id-1 div.sk-toggleable {background-color: white;}#sk-container-id-1 label.sk-toggleable__label {cursor: pointer;display: block;width: 100%;margin-bottom: 0;padding: 0.3em;box-sizing: border-box;text-align: center;}#sk-container-id-1 label.sk-toggleable__label-arrow:before {content: \"▸\";float: left;margin-right: 0.25em;color: #696969;}#sk-container-id-1 label.sk-toggleable__label-arrow:hover:before {color: black;}#sk-container-id-1 div.sk-estimator:hover label.sk-toggleable__label-arrow:before {color: black;}#sk-container-id-1 div.sk-toggleable__content {max-height: 0;max-width: 0;overflow: hidden;text-align: left;background-color: #f0f8ff;}#sk-container-id-1 div.sk-toggleable__content pre {margin: 0.2em;color: black;border-radius: 0.25em;background-color: #f0f8ff;}#sk-container-id-1 input.sk-toggleable__control:checked~div.sk-toggleable__content {max-height: 200px;max-width: 100%;overflow: auto;}#sk-container-id-1 input.sk-toggleable__control:checked~label.sk-toggleable__label-arrow:before {content: \"▾\";}#sk-container-id-1 div.sk-estimator input.sk-toggleable__control:checked~label.sk-toggleable__label {background-color: #d4ebff;}#sk-container-id-1 div.sk-label input.sk-toggleable__control:checked~label.sk-toggleable__label {background-color: #d4ebff;}#sk-container-id-1 input.sk-hidden--visually {border: 0;clip: rect(1px 1px 1px 1px);clip: rect(1px, 1px, 1px, 1px);height: 1px;margin: -1px;overflow: hidden;padding: 0;position: absolute;width: 1px;}#sk-container-id-1 div.sk-estimator {font-family: monospace;background-color: #f0f8ff;border: 1px dotted black;border-radius: 0.25em;box-sizing: border-box;margin-bottom: 0.5em;}#sk-container-id-1 div.sk-estimator:hover {background-color: #d4ebff;}#sk-container-id-1 div.sk-parallel-item::after {content: \"\";width: 100%;border-bottom: 1px solid gray;flex-grow: 1;}#sk-container-id-1 div.sk-label:hover label.sk-toggleable__label {background-color: #d4ebff;}#sk-container-id-1 div.sk-serial::before {content: \"\";position: absolute;border-left: 1px solid gray;box-sizing: border-box;top: 0;bottom: 0;left: 50%;z-index: 0;}#sk-container-id-1 div.sk-serial {display: flex;flex-direction: column;align-items: center;background-color: white;padding-right: 0.2em;padding-left: 0.2em;position: relative;}#sk-container-id-1 div.sk-item {position: relative;z-index: 1;}#sk-container-id-1 div.sk-parallel {display: flex;align-items: stretch;justify-content: center;background-color: white;position: relative;}#sk-container-id-1 div.sk-item::before, #sk-container-id-1 div.sk-parallel-item::before {content: \"\";position: absolute;border-left: 1px solid gray;box-sizing: border-box;top: 0;bottom: 0;left: 50%;z-index: -1;}#sk-container-id-1 div.sk-parallel-item {display: flex;flex-direction: column;z-index: 1;position: relative;background-color: white;}#sk-container-id-1 div.sk-parallel-item:first-child::after {align-self: flex-end;width: 50%;}#sk-container-id-1 div.sk-parallel-item:last-child::after {align-self: flex-start;width: 50%;}#sk-container-id-1 div.sk-parallel-item:only-child::after {width: 0;}#sk-container-id-1 div.sk-dashed-wrapped {border: 1px dashed gray;margin: 0 0.4em 0.5em 0.4em;box-sizing: border-box;padding-bottom: 0.4em;background-color: white;}#sk-container-id-1 div.sk-label label {font-family: monospace;font-weight: bold;display: inline-block;line-height: 1.2em;}#sk-container-id-1 div.sk-label-container {text-align: center;}#sk-container-id-1 div.sk-container {/* jupyter's `normalize.less` sets `[hidden] { display: none; }` but bootstrap.min.css set `[hidden] { display: none !important; }` so we also need the `!important` here to be able to override the default hidden behavior on the sphinx rendered scikit-learn.org. See: https://github.com/scikit-learn/scikit-learn/issues/21755 */display: inline-block !important;position: relative;}#sk-container-id-1 div.sk-text-repr-fallback {display: none;}</style><div id=\"sk-container-id-1\" class=\"sk-top-container\"><div class=\"sk-text-repr-fallback\"><pre>MLPRegressor(activation=&#x27;identity&#x27;, batch_size=30, hidden_layer_sizes=100,\n",
       "             max_iter=5000, random_state=40, solver=&#x27;lbfgs&#x27;)</pre><b>In a Jupyter environment, please rerun this cell to show the HTML representation or trust the notebook. <br />On GitHub, the HTML representation is unable to render, please try loading this page with nbviewer.org.</b></div><div class=\"sk-container\" hidden><div class=\"sk-item\"><div class=\"sk-estimator sk-toggleable\"><input class=\"sk-toggleable__control sk-hidden--visually\" id=\"sk-estimator-id-1\" type=\"checkbox\" checked><label for=\"sk-estimator-id-1\" class=\"sk-toggleable__label sk-toggleable__label-arrow\">MLPRegressor</label><div class=\"sk-toggleable__content\"><pre>MLPRegressor(activation=&#x27;identity&#x27;, batch_size=30, hidden_layer_sizes=100,\n",
       "             max_iter=5000, random_state=40, solver=&#x27;lbfgs&#x27;)</pre></div></div></div></div></div>"
      ],
      "text/plain": [
       "MLPRegressor(activation='identity', batch_size=30, hidden_layer_sizes=100,\n",
       "             max_iter=5000, random_state=40, solver='lbfgs')"
      ]
     },
     "execution_count": 11,
     "metadata": {},
     "output_type": "execute_result"
    }
   ],
   "source": [
    "best_score = mean_absolute_error(y_test, y_pred)\n",
    "super_model = MLP_model\n",
    "\n",
    "super_model"
   ]
  },
  {
   "cell_type": "code",
   "execution_count": 12,
   "metadata": {},
   "outputs": [],
   "source": [
    "# save model to file\n",
    "Pickle_MLP = 'MLP_model.sav'\n",
    "pickle.dump(MLP_model, open(Pickle_MLP, 'wb'))"
   ]
  },
  {
   "cell_type": "code",
   "execution_count": 13,
   "metadata": {},
   "outputs": [],
   "source": [
    "pd.options.display.max_rows = None\n",
    "pd.options.display.max_columns = None\n",
    "\n",
    "def Score_Predictor(home_team, away_team):\n",
    "    team1 = home_team\n",
    "    team2 = away_team\n",
    "    \n",
    "    team1_data = mlp_model_df[nfl_df['Team'] == team1].drop('Points Scored', axis=1).reset_index(drop=True)\n",
    "    team2_data = mlp_model_df[nfl_df['Team'] == team2].drop('Points Scored', axis=1).reset_index(drop=True)\n",
    "    \n",
    "    week_slice = slice(0,17)\n",
    "    \n",
    "    #1 Remove if no team names\n",
    "    team1_test = pd.DataFrame(team1_data[week_slice].mean(axis=0)).T #select week to use as average\n",
    "    team1_test\n",
    "    opp_columns = team1_test.filter(like='Opponent').columns\n",
    "    \n",
    "    team1_test[opp_columns] = 0\n",
    "    team1_test['Team_' + team2] = 1\n",
    "    team1_test['Home'] = 1\n",
    "    \n",
    "    #2\n",
    "    team2_test = pd.DataFrame(team2_data[week_slice].mean(axis=0)).T #select week to use as average\n",
    "    opp_columns = team2_test.filter(like='Opponent').columns\n",
    "    \n",
    "    team2_test[opp_columns] = 0\n",
    "    team2_test['Team_' + team1] = 1\n",
    "    team2_test['Home'] = 1 # change to remove home field advantage\n",
    "    \n",
    "    # head to head matchup\n",
    "    team1_test[['1st Downs Allowed','Total Yards Allowed','Passing Yards Allowed','Rushing Yards Allowed','Turnovers Gained']] = team2_test[['1st Downs','Total Yards Gained',' Passing Yards',' Rushing Yards','Turnovers Lost']]\n",
    "    team2_test[['1st Downs Allowed','Total Yards Allowed','Passing Yards Allowed','Rushing Yards Allowed','Turnovers Gained']] = team1_test[['1st Downs','Total Yards Gained',' Passing Yards',' Rushing Yards','Turnovers Lost']]\n",
    "    \n",
    "    X_Playoff_test = pd.concat([team1_test, team2_test])\n",
    "    X_Playoff_test.fillna(0, inplace = True) # added to address the NANs that was causing the error\n",
    "    \n",
    "    scores = MLP_model.predict(X_Playoff_test)\n",
    "    print(team1, \"will score\", round(scores[0], 1))\n",
    "    print(team2, \"will score\", round(scores[1], 1))\n",
    "    \n",
    "    if scores[0] > scores[1]:\n",
    "        winner = team1\n",
    "    else:\n",
    "        winner = team2\n",
    "        \n",
    "    print(winner, \"are the WINNERS!!!\")\n",
    "    \n",
    "    return scores, winner"
   ]
  },
  {
   "cell_type": "code",
   "execution_count": 14,
   "metadata": {},
   "outputs": [],
   "source": [
    "# pd.options.display.max_rows = None\n",
    "# pd.options.display.max_columns = None\n",
    "\n",
    "# def Score_Predictor1(home_team, away_team):\n",
    "#     # Convert the index to strings\n",
    "#     mlp_model_df.index = mlp_model_df.index.astype(str)\n",
    "    \n",
    "#     # Get data for the home team\n",
    "#     team1_data = mlp_model_df[mlp_model_df.index.str.contains(home_team)].drop('Points Scored', axis=1).mean()\n",
    "#     team1_test = pd.DataFrame(team1_data).T\n",
    "#     team1_test.filter(like='Opponent').loc[:, :] = 0\n",
    "#     team1_test['Team_' + away_team] = 1\n",
    "#     team1_test['Home'] = 1\n",
    "    \n",
    "#     # Get data for the away team\n",
    "#     team2_data = mlp_model_df[mlp_model_df.index.str.contains(away_team)].drop('Points Scored', axis=1).mean()\n",
    "#     team2_test = pd.DataFrame(team2_data).T\n",
    "#     team2_test.filter(like='Opponent').loc[:, :] = 0\n",
    "#     team2_test['Team_' + home_team] = 1\n",
    "#     team2_test['Home'] = 0\n",
    "    \n",
    "#     # Swap stats for head-to-head comparison\n",
    "#     team1_test[['1st Downs Allowed', 'Total Yards Allowed', 'Passing Yards Allowed', 'Rushing Yards Allowed', 'Turnovers Gained']] = \\\n",
    "#     team2_test[['1st Downs', 'Total Yards Gained', ' Passing Yards', ' Rushing Yards', 'Turnovers Lost']]\n",
    "    \n",
    "#     team2_test[['1st Downs Allowed', 'Total Yards Allowed', 'Passing Yards Allowed', 'Rushing Yards Allowed', 'Turnovers Gained']] = \\\n",
    "#     team1_test[['1st Downs', 'Total Yards Gained', ' Passing Yards', ' Rushing Yards', 'Turnovers Lost']]\n",
    "    \n",
    "#     # Concatenate data for prediction\n",
    "#     X_playoff_test = pd.concat([team1_test, team2_test])\n",
    "#     X_playoff_test.fillna(0, inplace=True)\n",
    "    \n",
    "#     # Make predictions\n",
    "#     scores = MLP_model.predict(X_playoff_test)\n",
    "    \n",
    "#     # Determine the winner\n",
    "#     if scores[0] > scores[1]:\n",
    "#         winner = home_team\n",
    "#     else:\n",
    "#         winner = away_team\n",
    "    \n",
    "#     print(f\"{home_team} will score {round(scores[0], 1)}\")\n",
    "#     print(f\"{away_team} will score {round(scores[1], 1)}\")\n",
    "#     print(f\"The winner is: {winner}\")\n",
    "    \n",
    "#     return scores, winner\n",
    "\n",
    "\n",
    "\n"
   ]
  },
  {
   "cell_type": "markdown",
   "metadata": {},
   "source": [
    "# AFC Wild Card Round"
   ]
  },
  {
   "cell_type": "code",
   "execution_count": 15,
   "metadata": {},
   "outputs": [
    {
     "name": "stdout",
     "output_type": "stream",
     "text": [
      "Cleveland Browns will score 24.0\n",
      "Houston Texans will score 28.6\n",
      "Houston Texans are the WINNERS!!!\n"
     ]
    },
    {
     "name": "stderr",
     "output_type": "stream",
     "text": [
      "c:\\Users\\james\\anaconda3\\envs\\dev\\lib\\site-packages\\sklearn\\base.py:457: UserWarning: X has feature names, but MLPRegressor was fitted without feature names\n",
      "  warnings.warn(\n"
     ]
    }
   ],
   "source": [
    "scores, winner = Score_Predictor('Cleveland Browns', 'Houston Texans')"
   ]
  },
  {
   "cell_type": "code",
   "execution_count": 16,
   "metadata": {},
   "outputs": [
    {
     "name": "stdout",
     "output_type": "stream",
     "text": [
      "Miami Dolphins will score 27.4\n",
      "Kansas City Chiefs will score 25.3\n",
      "Miami Dolphins are the WINNERS!!!\n"
     ]
    },
    {
     "name": "stderr",
     "output_type": "stream",
     "text": [
      "c:\\Users\\james\\anaconda3\\envs\\dev\\lib\\site-packages\\sklearn\\base.py:457: UserWarning: X has feature names, but MLPRegressor was fitted without feature names\n",
      "  warnings.warn(\n"
     ]
    }
   ],
   "source": [
    "scores, winner = Score_Predictor('Miami Dolphins', 'Kansas City Chiefs')"
   ]
  },
  {
   "cell_type": "code",
   "execution_count": 17,
   "metadata": {},
   "outputs": [
    {
     "name": "stdout",
     "output_type": "stream",
     "text": [
      "Pittsburgh Steelers will score 21.1\n",
      "Buffalo Bills will score 24.2\n",
      "Buffalo Bills are the WINNERS!!!\n"
     ]
    },
    {
     "name": "stderr",
     "output_type": "stream",
     "text": [
      "c:\\Users\\james\\anaconda3\\envs\\dev\\lib\\site-packages\\sklearn\\base.py:457: UserWarning: X has feature names, but MLPRegressor was fitted without feature names\n",
      "  warnings.warn(\n"
     ]
    }
   ],
   "source": [
    "scores, winner = Score_Predictor('Pittsburgh Steelers', 'Buffalo Bills')"
   ]
  },
  {
   "cell_type": "markdown",
   "metadata": {},
   "source": [
    "# NFC Wild Card Round"
   ]
  },
  {
   "cell_type": "code",
   "execution_count": 18,
   "metadata": {},
   "outputs": [
    {
     "name": "stdout",
     "output_type": "stream",
     "text": [
      "Green Bay Packers will score 28.3\n",
      "Dallas Cowboys will score 31.6\n",
      "Dallas Cowboys are the WINNERS!!!\n"
     ]
    },
    {
     "name": "stderr",
     "output_type": "stream",
     "text": [
      "c:\\Users\\james\\anaconda3\\envs\\dev\\lib\\site-packages\\sklearn\\base.py:457: UserWarning: X has feature names, but MLPRegressor was fitted without feature names\n",
      "  warnings.warn(\n"
     ]
    }
   ],
   "source": [
    "scores, winner = Score_Predictor('Green Bay Packers', 'Dallas Cowboys')"
   ]
  },
  {
   "cell_type": "code",
   "execution_count": 19,
   "metadata": {},
   "outputs": [
    {
     "name": "stdout",
     "output_type": "stream",
     "text": [
      "Los Angeles Rams will score 32.1\n",
      "Detroit Lions will score 33.0\n",
      "Detroit Lions are the WINNERS!!!\n"
     ]
    },
    {
     "name": "stderr",
     "output_type": "stream",
     "text": [
      "c:\\Users\\james\\anaconda3\\envs\\dev\\lib\\site-packages\\sklearn\\base.py:457: UserWarning: X has feature names, but MLPRegressor was fitted without feature names\n",
      "  warnings.warn(\n"
     ]
    }
   ],
   "source": [
    "scores, winner = Score_Predictor('Los Angeles Rams', 'Detroit Lions')"
   ]
  },
  {
   "cell_type": "code",
   "execution_count": 20,
   "metadata": {},
   "outputs": [
    {
     "name": "stderr",
     "output_type": "stream",
     "text": [
      "c:\\Users\\james\\anaconda3\\envs\\dev\\lib\\site-packages\\sklearn\\base.py:457: UserWarning: X has feature names, but MLPRegressor was fitted without feature names\n",
      "  warnings.warn(\n"
     ]
    },
    {
     "name": "stdout",
     "output_type": "stream",
     "text": [
      "Philadelphia Eagles will score 25.7\n",
      "Tampa Bay Buccaneers will score 24.2\n",
      "Philadelphia Eagles are the WINNERS!!!\n"
     ]
    }
   ],
   "source": [
    "scores, winner = Score_Predictor('Philadelphia Eagles', 'Tampa Bay Buccaneers')"
   ]
  },
  {
   "cell_type": "markdown",
   "metadata": {},
   "source": [
    "# AFC Divisional Round"
   ]
  },
  {
   "cell_type": "code",
   "execution_count": 21,
   "metadata": {},
   "outputs": [
    {
     "name": "stderr",
     "output_type": "stream",
     "text": [
      "c:\\Users\\james\\anaconda3\\envs\\dev\\lib\\site-packages\\sklearn\\base.py:457: UserWarning: X has feature names, but MLPRegressor was fitted without feature names\n",
      "  warnings.warn(\n"
     ]
    },
    {
     "name": "stdout",
     "output_type": "stream",
     "text": [
      "Houston Texans will score 25.5\n",
      "Baltimore Ravens will score 27.7\n",
      "Baltimore Ravens are the WINNERS!!!\n"
     ]
    }
   ],
   "source": [
    "scores, winner = Score_Predictor('Houston Texans', 'Baltimore Ravens')"
   ]
  },
  {
   "cell_type": "code",
   "execution_count": 22,
   "metadata": {},
   "outputs": [
    {
     "name": "stdout",
     "output_type": "stream",
     "text": [
      "Kansas City Chiefs will score 26.5\n",
      "Buffalo Bills will score 26.9\n",
      "Buffalo Bills are the WINNERS!!!\n"
     ]
    },
    {
     "name": "stderr",
     "output_type": "stream",
     "text": [
      "c:\\Users\\james\\anaconda3\\envs\\dev\\lib\\site-packages\\sklearn\\base.py:457: UserWarning: X has feature names, but MLPRegressor was fitted without feature names\n",
      "  warnings.warn(\n"
     ]
    }
   ],
   "source": [
    "scores, winner = Score_Predictor('Kansas City Chiefs', 'Buffalo Bills')"
   ]
  },
  {
   "cell_type": "markdown",
   "metadata": {},
   "source": [
    "# NFC Divisional Round"
   ]
  },
  {
   "cell_type": "code",
   "execution_count": 23,
   "metadata": {},
   "outputs": [
    {
     "name": "stdout",
     "output_type": "stream",
     "text": [
      "Green Bay Packers will score 26.7\n",
      "San Francisco 49ers will score 30.8\n",
      "San Francisco 49ers are the WINNERS!!!\n"
     ]
    },
    {
     "name": "stderr",
     "output_type": "stream",
     "text": [
      "c:\\Users\\james\\anaconda3\\envs\\dev\\lib\\site-packages\\sklearn\\base.py:457: UserWarning: X has feature names, but MLPRegressor was fitted without feature names\n",
      "  warnings.warn(\n"
     ]
    }
   ],
   "source": [
    "scores, winner = Score_Predictor('Green Bay Packers', 'San Francisco 49ers')"
   ]
  },
  {
   "cell_type": "code",
   "execution_count": 24,
   "metadata": {},
   "outputs": [
    {
     "name": "stdout",
     "output_type": "stream",
     "text": [
      "Tampa Bay Buccaneers will score 27.6\n",
      "Detroit Lions will score 30.9\n",
      "Detroit Lions are the WINNERS!!!\n"
     ]
    },
    {
     "name": "stderr",
     "output_type": "stream",
     "text": [
      "c:\\Users\\james\\anaconda3\\envs\\dev\\lib\\site-packages\\sklearn\\base.py:457: UserWarning: X has feature names, but MLPRegressor was fitted without feature names\n",
      "  warnings.warn(\n"
     ]
    }
   ],
   "source": [
    "scores, winner = Score_Predictor('Tampa Bay Buccaneers', 'Detroit Lions')"
   ]
  },
  {
   "cell_type": "markdown",
   "metadata": {},
   "source": [
    "# AFC Championship"
   ]
  },
  {
   "cell_type": "code",
   "execution_count": 25,
   "metadata": {},
   "outputs": [
    {
     "name": "stdout",
     "output_type": "stream",
     "text": [
      "Kansas City Chiefs will score 25.9\n",
      "Baltimore Ravens will score 27.7\n",
      "Baltimore Ravens are the WINNERS!!!\n"
     ]
    },
    {
     "name": "stderr",
     "output_type": "stream",
     "text": [
      "c:\\Users\\james\\anaconda3\\envs\\dev\\lib\\site-packages\\sklearn\\base.py:457: UserWarning: X has feature names, but MLPRegressor was fitted without feature names\n",
      "  warnings.warn(\n"
     ]
    }
   ],
   "source": [
    "scores, winner = Score_Predictor('Kansas City Chiefs', 'Baltimore Ravens')"
   ]
  },
  {
   "cell_type": "markdown",
   "metadata": {},
   "source": [
    "# NFC Championship"
   ]
  },
  {
   "cell_type": "code",
   "execution_count": 26,
   "metadata": {},
   "outputs": [
    {
     "name": "stdout",
     "output_type": "stream",
     "text": [
      "Detroit Lions will score 33.7\n",
      "San Francisco 49ers will score 35.8\n",
      "San Francisco 49ers are the WINNERS!!!\n"
     ]
    },
    {
     "name": "stderr",
     "output_type": "stream",
     "text": [
      "c:\\Users\\james\\anaconda3\\envs\\dev\\lib\\site-packages\\sklearn\\base.py:457: UserWarning: X has feature names, but MLPRegressor was fitted without feature names\n",
      "  warnings.warn(\n"
     ]
    }
   ],
   "source": [
    "scores, winner = Score_Predictor('Detroit Lions', 'San Francisco 49ers')"
   ]
  },
  {
   "cell_type": "markdown",
   "metadata": {},
   "source": [
    "# SUPER BOWL LVIII (58)"
   ]
  },
  {
   "cell_type": "code",
   "execution_count": 27,
   "metadata": {},
   "outputs": [
    {
     "name": "stdout",
     "output_type": "stream",
     "text": [
      "Kansas City Chiefs will score 25.8\n",
      "San Francisco 49ers will score 29.3\n",
      "San Francisco 49ers are the WINNERS!!!\n"
     ]
    },
    {
     "name": "stderr",
     "output_type": "stream",
     "text": [
      "c:\\Users\\james\\anaconda3\\envs\\dev\\lib\\site-packages\\sklearn\\base.py:457: UserWarning: X has feature names, but MLPRegressor was fitted without feature names\n",
      "  warnings.warn(\n"
     ]
    }
   ],
   "source": [
    "scores, winner = Score_Predictor('Kansas City Chiefs', 'San Francisco 49ers')"
   ]
  }
 ],
 "metadata": {
  "kernelspec": {
   "display_name": "dev",
   "language": "python",
   "name": "python3"
  },
  "language_info": {
   "codemirror_mode": {
    "name": "ipython",
    "version": 3
   },
   "file_extension": ".py",
   "mimetype": "text/x-python",
   "name": "python",
   "nbconvert_exporter": "python",
   "pygments_lexer": "ipython3",
   "version": "3.10.13"
  }
 },
 "nbformat": 4,
 "nbformat_minor": 2
}
