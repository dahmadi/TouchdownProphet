{
 "cells": [
  {
   "cell_type": "code",
   "execution_count": null,
   "id": "6c7ea71b-36ba-48db-a1b4-f126888dde19",
   "metadata": {},
   "outputs": [],
   "source": [
    "# import necessary libraries"
   ]
  },
  {
   "cell_type": "code",
   "execution_count": null,
   "id": "3af73cb6-8e7f-40f3-a191-c67e5e4318e1",
   "metadata": {},
   "outputs": [],
   "source": [
    "# import necessary libraries\n",
    "\n",
    "import pandas as pd\n",
    "import numpy as np\n",
    "from pathlib import Path\n",
    "import os"
   ]
  },
  {
   "cell_type": "code",
   "execution_count": null,
   "id": "c7b9527b-03ce-4ef4-8f5f-2aee6adfd7d0",
   "metadata": {},
   "outputs": [],
   "source": [
    "# Read NFL offensive, yearly, team stats into a pandas Dataframe\n",
    "\n",
    "o_2023 = pd.read_excel('Data/Offense_2023.csv.xlsx')\n",
    "o_2022 = pd.read_excel('Data/Offense_2022.csv.xlsx')\n",
    "o_2021 = pd.read_excel('Data/Offense_2021.csv.xlsx')\n",
    "o_2020 = pd.read_excel('Data/Offense_2020.csv.xlsx')\n",
    "o_2019 = pd.read_excel('Data/Offense_2019.csv.xlsx')\n",
    "o_2018 = pd.read_excel('Data/Offense_2018.csv.xlsx')\n",
    "o_2017 = pd.read_excel('Data/Offense_2017.csv.xlsx')\n",
    "o_2016 = pd.read_excel('Data/Offense_2016.csv.xlsx')\n",
    "o_2015 = pd.read_excel('Data/Offense_2015.csv.xlsx')\n",
    "o_2014 = pd.read_excel('Data/Offense_2014.csv.xlsx')\n"
   ]
  },
  {
   "cell_type": "code",
   "execution_count": null,
   "id": "76b4dcad",
   "metadata": {},
   "outputs": [],
   "source": [
    "# Read NFL defensive, yearly, team stats into a pandas Dataframe\n",
    "\n",
    "d_2023 = pd.read_excel('Data/Defense_2023.csv.xlsx')\n",
    "d_2022 = pd.read_excel('Data/Defense_2022.csv.xlsx')\n",
    "d_2021 = pd.read_excel('Data/Defense_2021.csv.xlsx')\n",
    "d_2020 = pd.read_excel('Data/Defense_2020.csv.xlsx')\n",
    "d_2019 = pd.read_excel('Data/Defense_2019.csv.xlsx')\n",
    "d_2018 = pd.read_excel('Data/Defense_2018.csv.xlsx')\n",
    "d_2017 = pd.read_excel('Data/Defense_2017.csv.xlsx')\n",
    "d_2016 = pd.read_excel('Data/Defense_2016.csv.xlsx')\n",
    "d_2015 = pd.read_excel('Data/Defense_2015.csv.xlsx')\n",
    "d_2014 = pd.read_excel('Data/Defense_2014.csv.xlsx')"
   ]
  },
  {
   "cell_type": "code",
   "execution_count": null,
   "id": "c7b8aca0",
   "metadata": {},
   "outputs": [],
   "source": [
    "display(o_2023.head())\n",
    "display(o_2023.tail())"
   ]
  },
  {
   "cell_type": "code",
   "execution_count": null,
   "id": "cb7165c3",
   "metadata": {},
   "outputs": [],
   "source": [
    "display(d_2014.head())\n",
    "display(d_2014.tail())"
   ]
  },
  {
   "cell_type": "code",
   "execution_count": null,
   "id": "ba30c0a1",
   "metadata": {},
   "outputs": [],
   "source": []
  },
  {
   "cell_type": "code",
   "execution_count": null,
   "id": "65d4f244",
   "metadata": {},
   "outputs": [],
   "source": []
  },
  {
   "cell_type": "code",
   "execution_count": null,
   "id": "2af38da5",
   "metadata": {},
   "outputs": [],
   "source": []
  },
  {
   "cell_type": "code",
   "execution_count": null,
   "id": "eedbf61b",
   "metadata": {},
   "outputs": [],
   "source": [
    "sb_champs = pd.read_excel('Data/Super_Bowl.csv.xlsx')\n",
    "\n",
    "\n",
    "sb_champs.head()"
   ]
  },
  {
   "cell_type": "code",
   "execution_count": null,
   "id": "468c4ce7",
   "metadata": {},
   "outputs": [],
   "source": [
    "sb_champs.Date = pd.to_datetime(sb_champs.Date)\n",
    "sb_champs['Year'] = pd.DatetimeIndex(sb_champs['Date']).year\n",
    "sb_champs = sb_champs[['Year', 'Winner']]\n",
    "\n",
    "sb_champs.head()"
   ]
  },
  {
   "cell_type": "code",
   "execution_count": null,
   "id": "8a07c63b",
   "metadata": {},
   "outputs": [],
   "source": []
  }
 ],
 "metadata": {
  "kernelspec": {
   "display_name": "Python 3 (ipykernel)",
   "language": "python",
   "name": "python3"
  },
  "language_info": {
   "codemirror_mode": {
    "name": "ipython",
    "version": 3
   },
   "file_extension": ".py",
   "mimetype": "text/x-python",
   "name": "python",
   "nbconvert_exporter": "python",
   "pygments_lexer": "ipython3",
   "version": "3.10.13"
  }
 },
 "nbformat": 4,
 "nbformat_minor": 5
}
