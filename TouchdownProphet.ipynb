{
 "cells": [
  {
   "cell_type": "code",
   "execution_count": null,
   "id": "fccb868c-55da-46d6-b60c-37560588d9e8",
   "metadata": {},
   "outputs": [],
   "source": [
    "# import necessary libraries"
   ]
  },
  {
   "cell_type": "code",
   "execution_count": 3,
   "id": "ee972656-063a-4204-8f3f-10d4478fae9c",
   "metadata": {},
   "outputs": [],
   "source": [
    "import pandas as pd\n",
    "import numpy as np\n",
    "import os\n",
    "from pathlib import Path"
   ]
  },
  {
   "cell_type": "code",
   "execution_count": 4,
   "id": "e7172d63-f385-4fcc-8464-63706c62f717",
   "metadata": {},
   "outputs": [],
   "source": [
    "Off_2023 = pd.read_excel(Path('Data/Offense_2023.csv.xlsx'))"
   ]
  },
  {
   "cell_type": "code",
   "execution_count": null,
   "id": "c6f6a010-61a1-4ed6-92d5-a0752e279952",
   "metadata": {},
   "outputs": [],
   "source": [
    "display(Off_2023.hea"
   ]
  }
 ],
 "metadata": {
  "kernelspec": {
   "display_name": "Python 3 (ipykernel)",
   "language": "python",
   "name": "python3"
  },
  "language_info": {
   "codemirror_mode": {
    "name": "ipython",
    "version": 3
   },
   "file_extension": ".py",
   "mimetype": "text/x-python",
   "name": "python",
   "nbconvert_exporter": "python",
   "pygments_lexer": "ipython3",
   "version": "3.9.18"
  }
 },
 "nbformat": 4,
 "nbformat_minor": 5
}
