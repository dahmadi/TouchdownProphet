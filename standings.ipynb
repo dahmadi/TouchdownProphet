{
 "cells": [
  {
   "cell_type": "code",
   "execution_count": 1,
   "metadata": {},
   "outputs": [
    {
     "name": "stdout",
     "output_type": "stream",
     "text": [
      "AFC Playoff Contenders:\n",
      "                  Team  Wins  Losses  Win Percentage\n",
      "0     Baltimore Ravens    13       4        0.764706\n",
      "1        Buffalo Bills    11       6        0.647059\n",
      "2     Cleveland Browns    11       6        0.647059\n",
      "3   Kansas City Chiefs    11       6        0.647059\n",
      "4       Miami Dolphins    11       6        0.647059\n",
      "5       Houston Texans    10       7        0.588235\n",
      "6  Pittsburgh Steelers    10       7        0.588235\n",
      "\n",
      "NFC Playoff Contenders:\n",
      "                  Team  Wins  Losses  Win Percentage\n",
      "0       Dallas Cowboys    12       5        0.705882\n",
      "1        Detroit Lions    12       5        0.705882\n",
      "2  San Francisco 49ers    12       5        0.705882\n",
      "3  Philadelphia Eagles    11       6        0.647059\n",
      "4     Los Angeles Rams    10       7        0.588235\n",
      "5    Green Bay Packers     9       8        0.529412\n",
      "6   New Orleans Saints     9       8        0.529412\n"
     ]
    }
   ],
   "source": [
    "import pandas as pd\n",
    "\n",
    "nfl_predictions_df = pd.read_csv('Data/NFL_Predictions_df.csv')\n",
    "\n",
    "# Extract wins and losses\n",
    "nfl_predictions_df['Wins'] = nfl_predictions_df['Record'].apply(lambda x: int(x.split('-')[0]))\n",
    "nfl_predictions_df['Losses'] = nfl_predictions_df['Record'].apply(lambda x: int(x.split('-')[1]))\n",
    "\n",
    "# Aggregate stats\n",
    "standings = nfl_predictions_df.groupby('Team').agg({\n",
    "    'Wins': 'max',\n",
    "    'Losses': 'max',\n",
    "    'Points Scored': 'sum',\n",
    "    'Points Allowed': 'sum'\n",
    "}).reset_index()\n",
    "\n",
    "# Calculate win percentage for ranking\n",
    "standings['Win Percentage'] = standings['Wins'] / (standings['Wins'] + standings['Losses'])\n",
    "\n",
    "# List of AFC and NFC teams (ensure this list is accurate and complete)\n",
    "afc_teams = [\n",
    "    \"Baltimore Ravens\", \"Buffalo Bills\", \"Cincinnati Bengals\", \"Cleveland Browns\",\n",
    "    \"Denver Broncos\", \"Houston Texans\", \"Indianapolis Colts\", \"Jacksonville Jaguars\",\n",
    "    \"Kansas City Chiefs\", \"Las Vegas Raiders\", \"Los Angeles Chargers\", \"Miami Dolphins\",\n",
    "    \"New England Patriots\", \"New York Jets\", \"Pittsburgh Steelers\", \"Tennessee Titans\"\n",
    "]\n",
    "\n",
    "nfc_teams = [\n",
    "    \"Arizona Cardinals\", \"Atlanta Falcons\", \"Carolina Panthers\", \"Chicago Bears\",\n",
    "    \"Dallas Cowboys\", \"Detroit Lions\", \"Green Bay Packers\", \"Los Angeles Rams\",\n",
    "    \"Minnesota Vikings\", \"New Orleans Saints\", \"New York Giants\", \"Philadelphia Eagles\",\n",
    "    \"San Francisco 49ers\", \"Seattle Seahawks\", \"Tampa Bay Buccaneers\", \"Washington Football Team\"\n",
    "]\n",
    "\n",
    "# Categorize teams into conferences\n",
    "standings['Conference'] = standings['Team'].apply(lambda x: 'AFC' if x in afc_teams else 'NFC')\n",
    "\n",
    "# Split into AFC and NFC standings\n",
    "afc_standings = standings[standings['Conference'] == 'AFC'].sort_values(by='Win Percentage', ascending=False).reset_index(drop=True)\n",
    "nfc_standings = standings[standings['Conference'] == 'NFC'].sort_values(by='Win Percentage', ascending=False).reset_index(drop=True)\n",
    "\n",
    "# Select top 7 teams from each conference for playoffs (adjust if league format changes)\n",
    "afc_playoff_contenders = afc_standings.head(7)\n",
    "nfc_playoff_contenders = nfc_standings.head(7)\n",
    "\n",
    "print(\"AFC Playoff Contenders:\")\n",
    "print(afc_playoff_contenders[['Team', 'Wins', 'Losses', 'Win Percentage']])\n",
    "\n",
    "print(\"\\nNFC Playoff Contenders:\")\n",
    "print(nfc_playoff_contenders[['Team', 'Wins', 'Losses', 'Win Percentage']])\n"
   ]
  }
 ],
 "metadata": {
  "kernelspec": {
   "display_name": "mlenv",
   "language": "python",
   "name": "python3"
  },
  "language_info": {
   "codemirror_mode": {
    "name": "ipython",
    "version": 3
   },
   "file_extension": ".py",
   "mimetype": "text/x-python",
   "name": "python",
   "nbconvert_exporter": "python",
   "pygments_lexer": "ipython3",
   "version": "3.10.13"
  }
 },
 "nbformat": 4,
 "nbformat_minor": 2
}
